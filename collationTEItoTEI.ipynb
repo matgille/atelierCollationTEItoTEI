{
 "cells": [
  {
   "cell_type": "code",
   "execution_count": 5,
   "metadata": {},
   "outputs": [
    {
     "name": "stdout",
     "output_type": "stream",
     "text": [
      "Requirement already satisfied: collatex in ./venv/lib/python3.7/site-packages (2.3)\n",
      "Requirement already satisfied: lxml in ./venv/lib/python3.7/site-packages (4.9.3)\n",
      "Requirement already satisfied: Halo in ./venv/lib/python3.7/site-packages (0.0.31)\n",
      "Requirement already satisfied: joblib in ./venv/lib/python3.7/site-packages (1.3.2)\n",
      "Requirement already satisfied: pandas in ./venv/lib/python3.7/site-packages (1.3.5)\n",
      "Collecting python-Levenshtein\n",
      "  Using cached https://files.pythonhosted.org/packages/27/89/c45dbdbd479453cfc8c4c1271c9f67fd607deaf84880e31c67b682980456/python_Levenshtein-0.23.0-py3-none-any.whl\n",
      "Requirement already satisfied: networkx in ./venv/lib/python3.7/site-packages (from collatex) (2.6.3)\n",
      "Requirement already satisfied: prettytable in ./venv/lib/python3.7/site-packages (from collatex) (3.7.0)\n",
      "Requirement already satisfied: colorama>=0.3.9 in ./venv/lib/python3.7/site-packages (from Halo) (0.4.6)\n",
      "Requirement already satisfied: log_symbols>=0.0.14 in ./venv/lib/python3.7/site-packages (from Halo) (0.0.14)\n",
      "Requirement already satisfied: six>=1.12.0 in ./venv/lib/python3.7/site-packages (from Halo) (1.16.0)\n",
      "Requirement already satisfied: spinners>=0.0.24 in ./venv/lib/python3.7/site-packages (from Halo) (0.0.24)\n",
      "Requirement already satisfied: termcolor>=1.1.0 in ./venv/lib/python3.7/site-packages (from Halo) (2.3.0)\n",
      "Requirement already satisfied: python-dateutil>=2.7.3 in ./venv/lib/python3.7/site-packages (from pandas) (2.8.2)\n",
      "Requirement already satisfied: numpy>=1.17.3; platform_machine != \"aarch64\" and platform_machine != \"arm64\" and python_version < \"3.10\" in ./venv/lib/python3.7/site-packages (from pandas) (1.21.6)\n",
      "Requirement already satisfied: pytz>=2017.3 in ./venv/lib/python3.7/site-packages (from pandas) (2023.3.post1)\n",
      "Collecting Levenshtein==0.23.0 (from python-Levenshtein)\n",
      "  Using cached https://files.pythonhosted.org/packages/d5/db/6163301400a4b2d86f6f0d05d36eab23880de047d0e41081a186519d4dfa/Levenshtein-0.23.0.tar.gz\n",
      "  Installing build dependencies ... \u001b[?25ldone\n",
      "\u001b[?25hRequirement already satisfied: importlib-metadata; python_version < \"3.8\" in ./venv/lib/python3.7/site-packages (from prettytable->collatex) (6.7.0)\n",
      "Requirement already satisfied: wcwidth in ./venv/lib/python3.7/site-packages (from prettytable->collatex) (0.2.12)\n",
      "Collecting rapidfuzz<4.0.0,>=3.1.0 (from Levenshtein==0.23.0->python-Levenshtein)\n",
      "  Using cached https://files.pythonhosted.org/packages/27/36/22741bb354505ca284c2149a4c7fdee396a6cdeae3f4c0614acf6b0ee27e/rapidfuzz-3.4.0.tar.gz\n",
      "\u001b[31mException:\n",
      "Traceback (most recent call last):\n",
      "  File \"/home/mgl/Bureau/Travail/projets/alignement/atelierCollationTEItoTEI/venv/lib/python3.7/site-packages/pip/_internal/cli/base_command.py\", line 143, in main\n",
      "    status = self.run(options, args)\n",
      "  File \"/home/mgl/Bureau/Travail/projets/alignement/atelierCollationTEItoTEI/venv/lib/python3.7/site-packages/pip/_internal/commands/install.py\", line 338, in run\n",
      "    resolver.resolve(requirement_set)\n",
      "  File \"/home/mgl/Bureau/Travail/projets/alignement/atelierCollationTEItoTEI/venv/lib/python3.7/site-packages/pip/_internal/resolve.py\", line 102, in resolve\n",
      "    self._resolve_one(requirement_set, req)\n",
      "  File \"/home/mgl/Bureau/Travail/projets/alignement/atelierCollationTEItoTEI/venv/lib/python3.7/site-packages/pip/_internal/resolve.py\", line 256, in _resolve_one\n",
      "    abstract_dist = self._get_abstract_dist_for(req_to_install)\n",
      "  File \"/home/mgl/Bureau/Travail/projets/alignement/atelierCollationTEItoTEI/venv/lib/python3.7/site-packages/pip/_internal/resolve.py\", line 209, in _get_abstract_dist_for\n",
      "    self.require_hashes\n",
      "  File \"/home/mgl/Bureau/Travail/projets/alignement/atelierCollationTEItoTEI/venv/lib/python3.7/site-packages/pip/_internal/operations/prepare.py\", line 298, in prepare_linked_requirement\n",
      "    abstract_dist.prep_for_dist(finder, self.build_isolation)\n",
      "  File \"/home/mgl/Bureau/Travail/projets/alignement/atelierCollationTEItoTEI/venv/lib/python3.7/site-packages/pip/_internal/operations/prepare.py\", line 100, in prep_for_dist\n",
      "    self.req.load_pyproject_toml()\n",
      "  File \"/home/mgl/Bureau/Travail/projets/alignement/atelierCollationTEItoTEI/venv/lib/python3.7/site-packages/pip/_internal/req/req_install.py\", line 428, in load_pyproject_toml\n",
      "    str(self)\n",
      "  File \"/home/mgl/Bureau/Travail/projets/alignement/atelierCollationTEItoTEI/venv/lib/python3.7/site-packages/pip/_internal/pyproject.py\", line 43, in load_pyproject_toml\n",
      "    pp_toml = pytoml.load(f)\n",
      "  File \"/home/mgl/Bureau/Travail/projets/alignement/atelierCollationTEItoTEI/venv/share/python-wheels/pytoml-0.1.2-py2.py3-none-any.whl/pytoml/parser.py\", line 303, in load\n",
      "    filename=fin.name)\n",
      "  File \"/home/mgl/Bureau/Travail/projets/alignement/atelierCollationTEItoTEI/venv/share/python-wheels/pytoml-0.1.2-py2.py3-none-any.whl/pytoml/parser.py\", line 370, in loads\n",
      "    toks.expect('=', 'expected_equals')\n",
      "  File \"/home/mgl/Bureau/Travail/projets/alignement/atelierCollationTEItoTEI/venv/share/python-wheels/pytoml-0.1.2-py2.py3-none-any.whl/pytoml/parser.py\", line 250, in expect\n",
      "    self.error(error_text)\n",
      "  File \"/home/mgl/Bureau/Travail/projets/alignement/atelierCollationTEItoTEI/venv/share/python-wheels/pytoml-0.1.2-py2.py3-none-any.whl/pytoml/parser.py\", line 253, in error\n",
      "    raise TomlError(message, self.pos[0][0], self.pos[0][1], self._filename)\n",
      "pytoml.core.TomlError: /tmp/pip-install-vfmn6ik6/rapidfuzz/pyproject.toml(87, 24): expected_equals\u001b[0m\n"
     ]
    }
   ],
   "source": [
    "!pip3 install collatex lxml Halo joblib pandas python-Levenshtein"
   ]
  },
  {
   "cell_type": "code",
   "execution_count": 3,
   "metadata": {
    "scrolled": false
   },
   "outputs": [
    {
     "ename": "ModuleNotFoundError",
     "evalue": "No module named 'joblib'",
     "output_type": "error",
     "traceback": [
      "\u001b[0;31m---------------------------------------------------------------------------\u001b[0m",
      "\u001b[0;31mModuleNotFoundError\u001b[0m                       Traceback (most recent call last)",
      "\u001b[0;32m/tmp/ipykernel_31155/891278508.py\u001b[0m in \u001b[0;36m<module>\u001b[0;34m\u001b[0m\n\u001b[1;32m      4\u001b[0m \u001b[0;31m# sys.path.insert(1, 'python/settings')\u001b[0m\u001b[0;34m\u001b[0m\u001b[0;34m\u001b[0m\u001b[0;34m\u001b[0m\u001b[0m\n\u001b[1;32m      5\u001b[0m \u001b[0;31m# sys.path.insert(1, 'python/utils/utils')\u001b[0m\u001b[0;34m\u001b[0m\u001b[0;34m\u001b[0m\u001b[0;34m\u001b[0m\u001b[0m\n\u001b[0;32m----> 6\u001b[0;31m \u001b[0;32mimport\u001b[0m \u001b[0mcollation\u001b[0m\u001b[0;34m.\u001b[0m\u001b[0mcollation\u001b[0m\u001b[0;34m\u001b[0m\u001b[0;34m\u001b[0m\u001b[0m\n\u001b[0m\u001b[1;32m      7\u001b[0m \u001b[0;31m# import injection\u001b[0m\u001b[0;34m\u001b[0m\u001b[0;34m\u001b[0m\u001b[0;34m\u001b[0m\u001b[0m\n\u001b[1;32m      8\u001b[0m \u001b[0;31m# import settings\u001b[0m\u001b[0;34m\u001b[0m\u001b[0;34m\u001b[0m\u001b[0;34m\u001b[0m\u001b[0m\n",
      "\u001b[0;32m~/Bureau/Travail/projets/alignement/atelierCollationTEItoTEI/python/collation/collation.py\u001b[0m in \u001b[0;36m<module>\u001b[0;34m\u001b[0m\n\u001b[1;32m      5\u001b[0m \u001b[0;32mimport\u001b[0m \u001b[0mmultiprocessing\u001b[0m \u001b[0;32mas\u001b[0m \u001b[0mmp\u001b[0m\u001b[0;34m\u001b[0m\u001b[0;34m\u001b[0m\u001b[0m\n\u001b[1;32m      6\u001b[0m \u001b[0;32mimport\u001b[0m \u001b[0mLevenshtein\u001b[0m\u001b[0;34m\u001b[0m\u001b[0;34m\u001b[0m\u001b[0m\n\u001b[0;32m----> 7\u001b[0;31m \u001b[0;32mimport\u001b[0m \u001b[0mpython\u001b[0m\u001b[0;34m.\u001b[0m\u001b[0mutils\u001b[0m\u001b[0;34m.\u001b[0m\u001b[0mutils\u001b[0m \u001b[0;32mas\u001b[0m \u001b[0mutils\u001b[0m\u001b[0;34m\u001b[0m\u001b[0;34m\u001b[0m\u001b[0m\n\u001b[0m\u001b[1;32m      8\u001b[0m \u001b[0;34m\u001b[0m\u001b[0m\n\u001b[1;32m      9\u001b[0m \u001b[0;32mfrom\u001b[0m \u001b[0mlxml\u001b[0m \u001b[0;32mimport\u001b[0m \u001b[0metree\u001b[0m\u001b[0;34m\u001b[0m\u001b[0;34m\u001b[0m\u001b[0m\n",
      "\u001b[0;32m~/Bureau/Travail/projets/alignement/atelierCollationTEItoTEI/python/utils/utils.py\u001b[0m in \u001b[0;36m<module>\u001b[0;34m\u001b[0m\n\u001b[1;32m     11\u001b[0m \u001b[0;32mfrom\u001b[0m \u001b[0mlxml\u001b[0m \u001b[0;32mimport\u001b[0m \u001b[0metree\u001b[0m\u001b[0;34m\u001b[0m\u001b[0;34m\u001b[0m\u001b[0m\n\u001b[1;32m     12\u001b[0m \u001b[0;34m\u001b[0m\u001b[0m\n\u001b[0;32m---> 13\u001b[0;31m \u001b[0;32mfrom\u001b[0m \u001b[0mjoblib\u001b[0m\u001b[0;34m.\u001b[0m\u001b[0m_multiprocessing_helpers\u001b[0m \u001b[0;32mimport\u001b[0m \u001b[0mmp\u001b[0m\u001b[0;34m\u001b[0m\u001b[0;34m\u001b[0m\u001b[0m\n\u001b[0m\u001b[1;32m     14\u001b[0m \u001b[0;34m\u001b[0m\u001b[0m\n\u001b[1;32m     15\u001b[0m \u001b[0mtei_ns\u001b[0m \u001b[0;34m=\u001b[0m \u001b[0;34m{\u001b[0m\u001b[0;34m'tei'\u001b[0m\u001b[0;34m:\u001b[0m \u001b[0;34m'http://www.tei-c.org/ns/1.0'\u001b[0m\u001b[0;34m}\u001b[0m\u001b[0;34m\u001b[0m\u001b[0;34m\u001b[0m\u001b[0m\n",
      "\u001b[0;31mModuleNotFoundError\u001b[0m: No module named 'joblib'"
     ]
    }
   ],
   "source": [
    "import sys\n",
    "sys.path.insert(1, 'python/collation')\n",
    "# sys.path.insert(1, 'python/injection/injection')\n",
    "# sys.path.insert(1, 'python/settings')\n",
    "# sys.path.insert(1, 'python/utils/utils')\n",
    "import collation.collation\n",
    "# import injection\n",
    "# import settings\n",
    "# import utils"
   ]
  },
  {
   "cell_type": "code",
   "execution_count": null,
   "metadata": {},
   "outputs": [],
   "source": []
  }
 ],
 "metadata": {
  "kernelspec": {
   "display_name": "alignmentEnv",
   "language": "python",
   "name": "alignmentenv"
  },
  "language_info": {
   "codemirror_mode": {
    "name": "ipython",
    "version": 3
   },
   "file_extension": ".py",
   "mimetype": "text/x-python",
   "name": "python",
   "nbconvert_exporter": "python",
   "pygments_lexer": "ipython3",
   "version": "3.7.3"
  }
 },
 "nbformat": 4,
 "nbformat_minor": 2
}
